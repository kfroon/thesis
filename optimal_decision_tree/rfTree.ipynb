{
 "cells": [
  {
   "cell_type": "code",
   "execution_count": 1,
   "metadata": {},
   "outputs": [
    {
     "name": "stderr",
     "output_type": "stream",
     "text": [
      "WARNING:root:This copy of Interpretable AI software is for academic purposes only and not for commercial use.\n"
     ]
    }
   ],
   "source": [
    "#Import all dependencies\n",
    "import pandas as pd\n",
    "from sklearn.model_selection import train_test_split\n",
    "from interpretableai import iai\n",
    "import matplotlib.pyplot as plt\n",
    "from sklearn.model_selection import cross_val_score\n",
    "from sklearn.model_selection import GridSearchCV\n",
    "from sklearn.ensemble import RandomForestClassifier\n",
    "from sklearn.metrics import accuracy_score\n",
    "import sklearn"
   ]
  },
  {
   "cell_type": "code",
   "execution_count": 2,
   "metadata": {},
   "outputs": [],
   "source": [
    "breast_df = pd.read_csv(\"C:/Users/kfroo/OneDrive/Desktop/Thesis/Breast Cancer Dataset/dataR2.csv\")\n",
    "bank_df = pd.read_csv(\"C:/Users/kfroo/OneDrive/Desktop/Thesis/Bank Marketing Dataset/bank/bank-full.csv\", sep = ';')\n",
    "polish_df = pd.read_csv(\"C:/Users/kfroo/OneDrive/Desktop/Thesis/Polish Companies Bankruptcy Dataset/5year.csv\")\n",
    "stroke_df = pd.read_csv(\"C:/Users/kfroo/OneDrive/Desktop/Thesis/Stroke Prediction Dataset/healthcare-dataset-stroke-data.csv\")"
   ]
  },
  {
   "cell_type": "code",
   "execution_count": 3,
   "metadata": {},
   "outputs": [],
   "source": [
    "def load_data(df, split = True):\n",
    "    X = df.iloc[:,:-1]\n",
    "    y = df.iloc[:,-1:].squeeze()\n",
    "    feature_names = X.columns\n",
    "    if split == False:\n",
    "        return X, y, feature_names\n",
    "    if split == True:\n",
    "        (x_train, y_train), (x_test, y_test) = iai.split_data('classification', X, y,seed = 1)\n",
    "        return x_train, x_test, y_train, y_test, feature_names"
   ]
  },
  {
   "cell_type": "code",
   "execution_count": 4,
   "metadata": {},
   "outputs": [],
   "source": [
    "def load_classifier(x_train, y_train, maxdepth = list, min_samples_leaf= list):\n",
    "   classifier = RandomForestClassifier()\n",
    "   param_grid = {'max_depth': maxdepth,\n",
    "                  'criterion' :['gini', 'entropy'],\n",
    "                  'min_samples_leaf': min_samples_leaf}\n",
    "   grid_search = sklearn.model_selection.GridSearchCV(estimator=classifier,  \n",
    "                           param_grid = param_grid, \n",
    "                           scoring = ['accuracy', 'f1'],\n",
    "                           refit = 'accuracy',\n",
    "                           cv=5, \n",
    "                           verbose=True, \n",
    "                           return_train_score=True)\n",
    "   grid_search.fit(x_train, y_train)\n",
    "   model = grid_search\n",
    "   return model"
   ]
  },
  {
   "cell_type": "code",
   "execution_count": 5,
   "metadata": {},
   "outputs": [
    {
     "name": "stdout",
     "output_type": "stream",
     "text": [
      "Fitting 5 folds for each of 108 candidates, totalling 540 fits\n"
     ]
    }
   ],
   "source": [
    "depth_list = range(2, 20)\n",
    "min_leaf = [3, 4, 5]\n",
    "x_train, x_test, y_train, y_test, features = load_data(df = breast_df)\n",
    "model = load_classifier(x_train, y_train, maxdepth=depth_list, min_samples_leaf = min_leaf)\n",
    "train_accuracy = model.cv_results_.get('mean_train_accuracy')\n",
    "test_accuracy = model.cv_results_.get('mean_test_accuracy')"
   ]
  },
  {
   "cell_type": "code",
   "execution_count": 6,
   "metadata": {},
   "outputs": [
    {
     "data": {
      "text/plain": [
       "0.7397058823529411"
      ]
     },
     "execution_count": 6,
     "metadata": {},
     "output_type": "execute_result"
    }
   ],
   "source": [
    "model.best_score_"
   ]
  },
  {
   "cell_type": "code",
   "execution_count": 7,
   "metadata": {},
   "outputs": [
    {
     "data": {
      "text/plain": [
       "{'criterion': 'entropy', 'max_depth': 5, 'min_samples_leaf': 3}"
      ]
     },
     "execution_count": 7,
     "metadata": {},
     "output_type": "execute_result"
    }
   ],
   "source": [
    "model.best_params_"
   ]
  }
 ],
 "metadata": {
  "kernelspec": {
   "display_name": ".venv",
   "language": "python",
   "name": "python3"
  },
  "language_info": {
   "codemirror_mode": {
    "name": "ipython",
    "version": 3
   },
   "file_extension": ".py",
   "mimetype": "text/x-python",
   "name": "python",
   "nbconvert_exporter": "python",
   "pygments_lexer": "ipython3",
   "version": "3.11.2"
  },
  "orig_nbformat": 4,
  "vscode": {
   "interpreter": {
    "hash": "b13a29826ee5042db5514b57b5a4dc5dd5c91cf1c764af7d313a8abaa279d865"
   }
  }
 },
 "nbformat": 4,
 "nbformat_minor": 2
}
